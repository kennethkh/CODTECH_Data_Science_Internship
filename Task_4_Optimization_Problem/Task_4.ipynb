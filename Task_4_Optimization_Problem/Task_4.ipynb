{
  "nbformat": 4,
  "nbformat_minor": 0,
  "metadata": {
    "colab": {
      "provenance": []
    },
    "kernelspec": {
      "name": "python3",
      "display_name": "Python 3"
    },
    "language_info": {
      "name": "python"
    }
  },
  "cells": [
    {
      "cell_type": "code",
      "execution_count": 1,
      "metadata": {
        "colab": {
          "base_uri": "https://localhost:8080/"
        },
        "id": "dl9ZJh74YebV",
        "outputId": "cb60b825-61a7-42c6-da9b-d8911c874fed"
      },
      "outputs": [
        {
          "output_type": "stream",
          "name": "stdout",
          "text": [
            "Collecting pulp\n",
            "  Downloading pulp-3.2.1-py3-none-any.whl.metadata (6.9 kB)\n",
            "Downloading pulp-3.2.1-py3-none-any.whl (16.4 MB)\n",
            "\u001b[2K   \u001b[90m━━━━━━━━━━━━━━━━━━━━━━━━━━━━━━━━━━━━━━━━\u001b[0m \u001b[32m16.4/16.4 MB\u001b[0m \u001b[31m86.3 MB/s\u001b[0m eta \u001b[36m0:00:00\u001b[0m\n",
            "\u001b[?25hInstalling collected packages: pulp\n",
            "Successfully installed pulp-3.2.1\n"
          ]
        }
      ],
      "source": [
        "!pip install pulp\n",
        "from pulp import *"
      ]
    },
    {
      "cell_type": "code",
      "source": [
        "# Create LP problem instance (Maximize profit)\n",
        "model = LpProblem(\"Maximize_Profit\", LpMaximize)\n",
        "\n",
        "# Decision variables: units of Product A and Product B\n",
        "x = LpVariable(\"Product_A\", lowBound=0, cat='Integer')\n",
        "y = LpVariable(\"Product_B\", lowBound=0, cat='Integer')\n",
        "\n",
        "# Objective function: Maximize profit\n",
        "model += 20 * x + 30 * y, \"Total Profit\"\n",
        "\n",
        "# Constraints\n",
        "model += 2 * x + 1 * y <= 100, \"Labor Constraint\"\n",
        "model += 1 * x + 1 * y <= 80, \"Material Constraint\""
      ],
      "metadata": {
        "id": "kgVrxb3NabbL"
      },
      "execution_count": 2,
      "outputs": []
    },
    {
      "cell_type": "code",
      "source": [
        "model.solve()\n",
        "\n",
        "# Print results\n",
        "print(\"Status:\", LpStatus[model.status])\n",
        "print(\"Optimal number of Product A:\", x.varValue)\n",
        "print(\"Optimal number of Product B:\", y.varValue)\n",
        "print(\"Maximum Profit: ₹\", value(model.objective))"
      ],
      "metadata": {
        "colab": {
          "base_uri": "https://localhost:8080/"
        },
        "id": "JSsWinGaagik",
        "outputId": "663d69d0-2028-46c9-e171-5b6813281e5b"
      },
      "execution_count": 3,
      "outputs": [
        {
          "output_type": "stream",
          "name": "stdout",
          "text": [
            "Status: Optimal\n",
            "Optimal number of Product A: 0.0\n",
            "Optimal number of Product B: 80.0\n",
            "Maximum Profit: ₹ 2400.0\n"
          ]
        }
      ]
    },
    {
      "cell_type": "code",
      "source": [],
      "metadata": {
        "id": "9YDiE3FZai_X"
      },
      "execution_count": null,
      "outputs": []
    }
  ]
}